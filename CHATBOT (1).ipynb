{
  "nbformat": 4,
  "nbformat_minor": 0,
  "metadata": {
    "colab": {
      "provenance": []
    },
    "kernelspec": {
      "name": "python3",
      "display_name": "Python 3"
    },
    "language_info": {
      "name": "python"
    }
  },
  "cells": [
    {
      "cell_type": "code",
      "execution_count": 1,
      "metadata": {
        "id": "-b0seMZvFGnS",
        "colab": {
          "base_uri": "https://localhost:8080/"
        },
        "outputId": "fc88eea9-bcb5-40dc-fd57-c5a646f5867b"
      },
      "outputs": [
        {
          "output_type": "stream",
          "name": "stdout",
          "text": [
            "\u001b[2K     \u001b[90m━━━━━━━━━━━━━━━━━━━━━━━━━━━━━━━━━━━━━━━━\u001b[0m \u001b[32m974.6/974.6 kB\u001b[0m \u001b[31m7.4 MB/s\u001b[0m eta \u001b[36m0:00:00\u001b[0m\n",
            "\u001b[2K     \u001b[90m━━━━━━━━━━━━━━━━━━━━━━━━━━━━━━━━━━━━━━━━\u001b[0m \u001b[32m325.5/325.5 kB\u001b[0m \u001b[31m9.6 MB/s\u001b[0m eta \u001b[36m0:00:00\u001b[0m\n",
            "\u001b[2K     \u001b[90m━━━━━━━━━━━━━━━━━━━━━━━━━━━━━━━━━━━━━━━━\u001b[0m \u001b[32m315.6/315.6 kB\u001b[0m \u001b[31m10.5 MB/s\u001b[0m eta \u001b[36m0:00:00\u001b[0m\n",
            "\u001b[2K     \u001b[90m━━━━━━━━━━━━━━━━━━━━━━━━━━━━━━━━━━━━━━━━\u001b[0m \u001b[32m125.2/125.2 kB\u001b[0m \u001b[31m8.7 MB/s\u001b[0m eta \u001b[36m0:00:00\u001b[0m\n",
            "\u001b[2K     \u001b[90m━━━━━━━━━━━━━━━━━━━━━━━━━━━━━━━━━━━━━━━━\u001b[0m \u001b[32m75.6/75.6 kB\u001b[0m \u001b[31m3.8 MB/s\u001b[0m eta \u001b[36m0:00:00\u001b[0m\n",
            "\u001b[2K     \u001b[90m━━━━━━━━━━━━━━━━━━━━━━━━━━━━━━━━━━━━━━━━\u001b[0m \u001b[32m77.9/77.9 kB\u001b[0m \u001b[31m5.1 MB/s\u001b[0m eta \u001b[36m0:00:00\u001b[0m\n",
            "\u001b[2K     \u001b[90m━━━━━━━━━━━━━━━━━━━━━━━━━━━━━━━━━━━━━━━━\u001b[0m \u001b[32m58.3/58.3 kB\u001b[0m \u001b[31m3.7 MB/s\u001b[0m eta \u001b[36m0:00:00\u001b[0m\n",
            "\u001b[2K     \u001b[90m━━━━━━━━━━━━━━━━━━━━━━━━━━━━━━━━━━━━━━━━\u001b[0m \u001b[32m145.0/145.0 kB\u001b[0m \u001b[31m5.1 MB/s\u001b[0m eta \u001b[36m0:00:00\u001b[0m\n",
            "\u001b[?25h"
          ]
        }
      ],
      "source": [
        "!pip -q install langchain openai\n"
      ]
    },
    {
      "cell_type": "code",
      "source": [
        "import os\n",
        "import openai\n",
        "from langchain.memory import ConversationBufferMemory\n",
        "from langchain.chains import ConversationalRetrievalChain\n",
        "from langchain.llms import OpenAI\n",
        "# Set the OpenAI API key\n",
        "os.environ[\"OPENAI_API_KEY\"] = \"\"\n",
        "openai.api_key = os.getenv(\"OPENAI_API_KEY\")\n",
        "\n",
        "def generate_route_description(start_location, end_location):\n",
        "    # Prompt for the OpenAI API\n",
        "    prompt = f\"Provide a detailed driving route from {start_location} to {end_location}. Include major turns, landmarks, and distances.\"\n",
        "\n",
        "    llm = OpenAI(temperature=0.1)\n",
        "\n",
        "# Initialize the conversational retrieval chain with a memory buffer\n",
        "    memory = ConversationBufferMemory(memory_key=\"chat_history\", return_messages=True)\n",
        "    qa = ConversationalRetrievalChain.from_llm(llm,memory=memory)\n",
        "    return response.choices[0].text.strip()\n",
        "\n",
        "# Run the chatbot in a loop\n",
        "print(\"Route Description Chatbot. Type 'exit' to quit.\")\n",
        "while True:\n",
        "    start_location = input(\"Enter the starting location: \")\n",
        "    if start_location.lower() == 'exit':\n",
        "        print('Exiting')\n",
        "        break\n",
        "\n",
        "    end_location = input(\"Enter the ending location: \")\n",
        "    if end_location.lower() == 'exit':\n",
        "        print('Exiting')\n",
        "        break\n",
        "\n",
        "    route_description = generate_route_description(start_location, end_location)\n",
        "    print(\"Route Description:\", route_description)\n"
      ],
      "metadata": {
        "colab": {
          "base_uri": "https://localhost:8080/",
          "height": 367
        },
        "id": "20_l-8XbjmWD",
        "outputId": "67076e07-e11f-4a8c-974f-ab0e07b241fd"
      },
      "execution_count": 7,
      "outputs": [
        {
          "name": "stdout",
          "output_type": "stream",
          "text": [
            "Route Description Chatbot. Type 'exit' to quit.\n",
            "Enter the starting location: Kochi\n",
            "Enter the ending location: Calicut\n"
          ]
        },
        {
          "output_type": "error",
          "ename": "TypeError",
          "evalue": "ConversationalRetrievalChain.from_llm() missing 1 required positional argument: 'retriever'",
          "traceback": [
            "\u001b[0;31m---------------------------------------------------------------------------\u001b[0m",
            "\u001b[0;31mTypeError\u001b[0m                                 Traceback (most recent call last)",
            "\u001b[0;32m<ipython-input-7-fe62874e6830>\u001b[0m in \u001b[0;36m<cell line: 23>\u001b[0;34m()\u001b[0m\n\u001b[1;32m     32\u001b[0m         \u001b[0;32mbreak\u001b[0m\u001b[0;34m\u001b[0m\u001b[0;34m\u001b[0m\u001b[0m\n\u001b[1;32m     33\u001b[0m \u001b[0;34m\u001b[0m\u001b[0m\n\u001b[0;32m---> 34\u001b[0;31m     \u001b[0mroute_description\u001b[0m \u001b[0;34m=\u001b[0m \u001b[0mgenerate_route_description\u001b[0m\u001b[0;34m(\u001b[0m\u001b[0mstart_location\u001b[0m\u001b[0;34m,\u001b[0m \u001b[0mend_location\u001b[0m\u001b[0;34m)\u001b[0m\u001b[0;34m\u001b[0m\u001b[0;34m\u001b[0m\u001b[0m\n\u001b[0m\u001b[1;32m     35\u001b[0m     \u001b[0mprint\u001b[0m\u001b[0;34m(\u001b[0m\u001b[0;34m\"Route Description:\"\u001b[0m\u001b[0;34m,\u001b[0m \u001b[0mroute_description\u001b[0m\u001b[0;34m)\u001b[0m\u001b[0;34m\u001b[0m\u001b[0;34m\u001b[0m\u001b[0m\n",
            "\u001b[0;32m<ipython-input-7-fe62874e6830>\u001b[0m in \u001b[0;36mgenerate_route_description\u001b[0;34m(start_location, end_location)\u001b[0m\n\u001b[1;32m     16\u001b[0m \u001b[0;31m# Initialize the conversational retrieval chain with a memory buffer\u001b[0m\u001b[0;34m\u001b[0m\u001b[0;34m\u001b[0m\u001b[0m\n\u001b[1;32m     17\u001b[0m     \u001b[0mmemory\u001b[0m \u001b[0;34m=\u001b[0m \u001b[0mConversationBufferMemory\u001b[0m\u001b[0;34m(\u001b[0m\u001b[0mmemory_key\u001b[0m\u001b[0;34m=\u001b[0m\u001b[0;34m\"chat_history\"\u001b[0m\u001b[0;34m,\u001b[0m \u001b[0mreturn_messages\u001b[0m\u001b[0;34m=\u001b[0m\u001b[0;32mTrue\u001b[0m\u001b[0;34m)\u001b[0m\u001b[0;34m\u001b[0m\u001b[0;34m\u001b[0m\u001b[0m\n\u001b[0;32m---> 18\u001b[0;31m     \u001b[0mqa\u001b[0m \u001b[0;34m=\u001b[0m \u001b[0mConversationalRetrievalChain\u001b[0m\u001b[0;34m.\u001b[0m\u001b[0mfrom_llm\u001b[0m\u001b[0;34m(\u001b[0m\u001b[0mllm\u001b[0m\u001b[0;34m,\u001b[0m\u001b[0mmemory\u001b[0m\u001b[0;34m=\u001b[0m\u001b[0mmemory\u001b[0m\u001b[0;34m)\u001b[0m\u001b[0;34m\u001b[0m\u001b[0;34m\u001b[0m\u001b[0m\n\u001b[0m\u001b[1;32m     19\u001b[0m     \u001b[0;32mreturn\u001b[0m \u001b[0mresponse\u001b[0m\u001b[0;34m.\u001b[0m\u001b[0mchoices\u001b[0m\u001b[0;34m[\u001b[0m\u001b[0;36m0\u001b[0m\u001b[0;34m]\u001b[0m\u001b[0;34m.\u001b[0m\u001b[0mtext\u001b[0m\u001b[0;34m.\u001b[0m\u001b[0mstrip\u001b[0m\u001b[0;34m(\u001b[0m\u001b[0;34m)\u001b[0m\u001b[0;34m\u001b[0m\u001b[0;34m\u001b[0m\u001b[0m\n\u001b[1;32m     20\u001b[0m \u001b[0;34m\u001b[0m\u001b[0m\n",
            "\u001b[0;31mTypeError\u001b[0m: ConversationalRetrievalChain.from_llm() missing 1 required positional argument: 'retriever'"
          ]
        }
      ]
    },
    {
      "cell_type": "code",
      "source": [
        "\n",
        "import os\n",
        "import openai\n",
        "from langchain.memory import ConversationBufferMemory\n",
        "from langchain.chains import ConversationalRetrievalChain\n",
        "from langchain.llms import OpenAI\n",
        "\n",
        "# Set the OpenAI API key\n",
        "os.environ[\"OPENAI_API_KEY\"] = \"\"\n",
        "openai.api_key = os.getenv(\"OPENAI_API_KEY\")\n",
        "\n",
        "# Initialize the OpenAI language model\n",
        "llm = OpenAI(temperature=0.1)\n",
        "\n",
        "# Initialize the conversational retrieval chain with a memory buffer\n",
        "memory = ConversationBufferMemory(memory_key=\"chat_history\", return_messages=True)\n",
        "qa = ConversationalRetrievalChain.from_llm(llm, retriever=None, memory=memory)\n",
        "\n",
        "def generate_route_description(start_location, end_location):\n",
        "    # Generate the prompt\n",
        "    prompt = f\"Provide a detailed driving route from {start_location} to {end_location}. Include major turns, landmarks, and distances.\"\n",
        "    result = qa({\"question\": prompt, \"chat_history\": []})\n",
        "    return result['answer']\n",
        "\n",
        "# Run the chatbot in a loop\n",
        "print(\"Route Description Chatbot. Type 'exit' to quit.\")\n",
        "while True:\n",
        "    start_location = input(\"Enter the starting location: \")\n",
        "    if start_location.lower() == 'exit':\n",
        "        print('Exiting')\n",
        "        break\n",
        "\n",
        "    end_location = input(\"Enter the ending location: \")\n",
        "    if end_location.lower() == 'exit':\n",
        "        print('Exiting')\n",
        "        break\n",
        "\n",
        "    route_description = generate_route_description(start_location, end_location)\n",
        "    print(\"Route Description:\", route_description)\n"
      ],
      "metadata": {
        "colab": {
          "base_uri": "https://localhost:8080/",
          "height": 391
        },
        "id": "77Y78up-mfMP",
        "outputId": "50b1d54e-35f7-4168-ca98-6002ac8ae5b2"
      },
      "execution_count": 8,
      "outputs": [
        {
          "output_type": "error",
          "ename": "ValidationError",
          "evalue": "1 validation error for ConversationalRetrievalChain\nretriever\n  none is not an allowed value (type=type_error.none.not_allowed)",
          "traceback": [
            "\u001b[0;31m---------------------------------------------------------------------------\u001b[0m",
            "\u001b[0;31mValidationError\u001b[0m                           Traceback (most recent call last)",
            "\u001b[0;32m<ipython-input-8-b68061167358>\u001b[0m in \u001b[0;36m<cell line: 16>\u001b[0;34m()\u001b[0m\n\u001b[1;32m     14\u001b[0m \u001b[0;31m# Initialize the conversational retrieval chain with a memory buffer\u001b[0m\u001b[0;34m\u001b[0m\u001b[0;34m\u001b[0m\u001b[0m\n\u001b[1;32m     15\u001b[0m \u001b[0mmemory\u001b[0m \u001b[0;34m=\u001b[0m \u001b[0mConversationBufferMemory\u001b[0m\u001b[0;34m(\u001b[0m\u001b[0mmemory_key\u001b[0m\u001b[0;34m=\u001b[0m\u001b[0;34m\"chat_history\"\u001b[0m\u001b[0;34m,\u001b[0m \u001b[0mreturn_messages\u001b[0m\u001b[0;34m=\u001b[0m\u001b[0;32mTrue\u001b[0m\u001b[0;34m)\u001b[0m\u001b[0;34m\u001b[0m\u001b[0;34m\u001b[0m\u001b[0m\n\u001b[0;32m---> 16\u001b[0;31m \u001b[0mqa\u001b[0m \u001b[0;34m=\u001b[0m \u001b[0mConversationalRetrievalChain\u001b[0m\u001b[0;34m.\u001b[0m\u001b[0mfrom_llm\u001b[0m\u001b[0;34m(\u001b[0m\u001b[0mllm\u001b[0m\u001b[0;34m,\u001b[0m \u001b[0mretriever\u001b[0m\u001b[0;34m=\u001b[0m\u001b[0;32mNone\u001b[0m\u001b[0;34m,\u001b[0m \u001b[0mmemory\u001b[0m\u001b[0;34m=\u001b[0m\u001b[0mmemory\u001b[0m\u001b[0;34m)\u001b[0m\u001b[0;34m\u001b[0m\u001b[0;34m\u001b[0m\u001b[0m\n\u001b[0m\u001b[1;32m     17\u001b[0m \u001b[0;34m\u001b[0m\u001b[0m\n\u001b[1;32m     18\u001b[0m \u001b[0;32mdef\u001b[0m \u001b[0mgenerate_route_description\u001b[0m\u001b[0;34m(\u001b[0m\u001b[0mstart_location\u001b[0m\u001b[0;34m,\u001b[0m \u001b[0mend_location\u001b[0m\u001b[0;34m)\u001b[0m\u001b[0;34m:\u001b[0m\u001b[0;34m\u001b[0m\u001b[0;34m\u001b[0m\u001b[0m\n",
            "\u001b[0;32m/usr/local/lib/python3.10/dist-packages/langchain/chains/conversational_retrieval/base.py\u001b[0m in \u001b[0;36mfrom_llm\u001b[0;34m(cls, llm, retriever, condense_question_prompt, chain_type, verbose, condense_question_llm, combine_docs_chain_kwargs, callbacks, **kwargs)\u001b[0m\n\u001b[1;32m    461\u001b[0m             \u001b[0mcallbacks\u001b[0m\u001b[0;34m=\u001b[0m\u001b[0mcallbacks\u001b[0m\u001b[0;34m,\u001b[0m\u001b[0;34m\u001b[0m\u001b[0;34m\u001b[0m\u001b[0m\n\u001b[1;32m    462\u001b[0m         )\n\u001b[0;32m--> 463\u001b[0;31m         return cls(\n\u001b[0m\u001b[1;32m    464\u001b[0m             \u001b[0mretriever\u001b[0m\u001b[0;34m=\u001b[0m\u001b[0mretriever\u001b[0m\u001b[0;34m,\u001b[0m\u001b[0;34m\u001b[0m\u001b[0;34m\u001b[0m\u001b[0m\n\u001b[1;32m    465\u001b[0m             \u001b[0mcombine_docs_chain\u001b[0m\u001b[0;34m=\u001b[0m\u001b[0mdoc_chain\u001b[0m\u001b[0;34m,\u001b[0m\u001b[0;34m\u001b[0m\u001b[0;34m\u001b[0m\u001b[0m\n",
            "\u001b[0;32m/usr/local/lib/python3.10/dist-packages/langchain_core/_api/deprecation.py\u001b[0m in \u001b[0;36mwarn_if_direct_instance\u001b[0;34m(self, *args, **kwargs)\u001b[0m\n\u001b[1;32m    201\u001b[0m                         \u001b[0mwarned\u001b[0m \u001b[0;34m=\u001b[0m \u001b[0;32mTrue\u001b[0m\u001b[0;34m\u001b[0m\u001b[0;34m\u001b[0m\u001b[0m\n\u001b[1;32m    202\u001b[0m                         \u001b[0memit_warning\u001b[0m\u001b[0;34m(\u001b[0m\u001b[0;34m)\u001b[0m\u001b[0;34m\u001b[0m\u001b[0;34m\u001b[0m\u001b[0m\n\u001b[0;32m--> 203\u001b[0;31m                     \u001b[0;32mreturn\u001b[0m \u001b[0mwrapped\u001b[0m\u001b[0;34m(\u001b[0m\u001b[0mself\u001b[0m\u001b[0;34m,\u001b[0m \u001b[0;34m*\u001b[0m\u001b[0margs\u001b[0m\u001b[0;34m,\u001b[0m \u001b[0;34m**\u001b[0m\u001b[0mkwargs\u001b[0m\u001b[0;34m)\u001b[0m\u001b[0;34m\u001b[0m\u001b[0;34m\u001b[0m\u001b[0m\n\u001b[0m\u001b[1;32m    204\u001b[0m \u001b[0;34m\u001b[0m\u001b[0m\n\u001b[1;32m    205\u001b[0m                 obj.__init__ = functools.wraps(obj.__init__)(  # type: ignore[misc]\n",
            "\u001b[0;32m/usr/local/lib/python3.10/dist-packages/pydantic/v1/main.py\u001b[0m in \u001b[0;36m__init__\u001b[0;34m(__pydantic_self__, **data)\u001b[0m\n\u001b[1;32m    339\u001b[0m         \u001b[0mvalues\u001b[0m\u001b[0;34m,\u001b[0m \u001b[0mfields_set\u001b[0m\u001b[0;34m,\u001b[0m \u001b[0mvalidation_error\u001b[0m \u001b[0;34m=\u001b[0m \u001b[0mvalidate_model\u001b[0m\u001b[0;34m(\u001b[0m\u001b[0m__pydantic_self__\u001b[0m\u001b[0;34m.\u001b[0m\u001b[0m__class__\u001b[0m\u001b[0;34m,\u001b[0m \u001b[0mdata\u001b[0m\u001b[0;34m)\u001b[0m\u001b[0;34m\u001b[0m\u001b[0;34m\u001b[0m\u001b[0m\n\u001b[1;32m    340\u001b[0m         \u001b[0;32mif\u001b[0m \u001b[0mvalidation_error\u001b[0m\u001b[0;34m:\u001b[0m\u001b[0;34m\u001b[0m\u001b[0;34m\u001b[0m\u001b[0m\n\u001b[0;32m--> 341\u001b[0;31m             \u001b[0;32mraise\u001b[0m \u001b[0mvalidation_error\u001b[0m\u001b[0;34m\u001b[0m\u001b[0;34m\u001b[0m\u001b[0m\n\u001b[0m\u001b[1;32m    342\u001b[0m         \u001b[0;32mtry\u001b[0m\u001b[0;34m:\u001b[0m\u001b[0;34m\u001b[0m\u001b[0;34m\u001b[0m\u001b[0m\n\u001b[1;32m    343\u001b[0m             \u001b[0mobject_setattr\u001b[0m\u001b[0;34m(\u001b[0m\u001b[0m__pydantic_self__\u001b[0m\u001b[0;34m,\u001b[0m \u001b[0;34m'__dict__'\u001b[0m\u001b[0;34m,\u001b[0m \u001b[0mvalues\u001b[0m\u001b[0;34m)\u001b[0m\u001b[0;34m\u001b[0m\u001b[0;34m\u001b[0m\u001b[0m\n",
            "\u001b[0;31mValidationError\u001b[0m: 1 validation error for ConversationalRetrievalChain\nretriever\n  none is not an allowed value (type=type_error.none.not_allowed)"
          ]
        }
      ]
    },
    {
      "cell_type": "code",
      "source": [
        "import os\n",
        "import openai\n",
        "\n",
        "# Set the OpenAI API key\n",
        "os.environ[\"OPENAI_API_KEY\"] = \"\"\n",
        "openai.api_key = os.getenv(\"OPENAI_API_KEY\")\n",
        "\n",
        "def generate_route_description(start_location, end_location):\n",
        "    # Prompt for the OpenAI API\n",
        "    prompt = f\"Provide a detailed driving route from {start_location} to {end_location}. Include major turns, landmarks, and distances.\"\n",
        "\n",
        "    response = openai.ChatCompletion.create(\n",
        "        model=\"gpt-3.5-turbo\",\n",
        "        messages=[\n",
        "            {\"role\": \"system\", \"content\": \"You are a helpful assistant.\"},\n",
        "            {\"role\": \"user\", \"content\": prompt}\n",
        "        ]\n",
        "    )\n",
        "\n",
        "    return response.choices[0].message.content.strip()\n",
        "\n",
        "# Run the chatbot in a loop\n",
        "print(\"Route Description Chatbot. Type 'exit' to quit.\")\n",
        "while True:\n",
        "    start_location = input(\"Enter the starting location: \")\n",
        "    if start_location.lower() == 'exit':\n",
        "        print('Exiting')\n",
        "        break\n",
        "\n",
        "    end_location = input(\"Enter the ending location: \")\n",
        "    if end_location.lower() == 'exit':\n",
        "        print('Exiting')\n",
        "        break\n",
        "\n",
        "    route_description = generate_route_description(start_location, end_location)\n",
        "    print(\"Route Description:\", route_description)\n"
      ],
      "metadata": {
        "colab": {
          "base_uri": "https://localhost:8080/"
        },
        "id": "cd-AHpWRmxDX",
        "outputId": "1f31691d-d4e3-4786-cc85-5d9023c3187d"
      },
      "execution_count": 2,
      "outputs": [
        {
          "output_type": "stream",
          "name": "stdout",
          "text": [
            "Route Description Chatbot. Type 'exit' to quit.\n",
            "Enter the starting location: Kochi\n",
            "Enter the ending location: Calicut\n",
            "Route Description: Sure! Here is a detailed driving route from Kochi to Calicut:\n",
            "\n",
            "1. Start in Kochi and head northeast on NH66.\n",
            "2. After approximately 25 km, you will reach Angamaly. Continue on NH66.\n",
            "3. Drive for another 40 km and you will reach Thrissur. Continue on NH66.\n",
            "4. After driving for around 60 km, you will reach Kunnamkulam. Continue on NH66.\n",
            "5. Drive for approximately 40 km and you will reach Kuttippuram. Continue on NH66.\n",
            "6. After driving for around 35 km, you will reach Tirur. Continue on NH66.\n",
            "7. Drive for another 20 km and you will reach Kozhikode (Calicut). Continue on NH66.\n",
            "8. Once in Kozhikode, follow the signs to reach your specific destination within the city.\n",
            "\n",
            "Landmarks along the way:\n",
            "- Angamaly: Located at the junction of NH66 and SH104, known for its churches and temples.\n",
            "- Thrissur: Known as the cultural capital of Kerala, home to Vadakkumnathan Temple and Thrissur Pooram festival.\n",
            "- Kunnamkulam: Known for its historic temples and churches.\n",
            "- Kuttippuram: Situated on the banks of the Bharathapuzha River, known for its railway bridge and ferry service.\n",
            "- Tirur: A historic town with significant Islamic heritage, known for its beaches and mosques.\n",
            "- Kozhikode (Calicut): A coastal city known for its historic sites, beaches, and culinary delights.\n",
            "\n",
            "Distances:\n",
            "- Kochi to Angamaly: 25 km\n",
            "- Angamaly to Thrissur: 40 km\n",
            "- Thrissur to Kunnamkulam: 60 km\n",
            "- Kunnamkulam to Kuttippuram: 40 km\n",
            "- Kuttippuram to Tirur: 35 km\n",
            "- Tirur to Kozhikode (Calicut): 20 km\n",
            "\n",
            "Total distance from Kochi to Calicut: Approximately 220 km\n",
            "\n",
            "Please note that these distances and landmarks are approximate and may vary based on the specific route taken and current road conditions. It's always advisable to check for any road closures or diversions before starting your journey. Drive safely!\n",
            "Enter the starting location: eXIT\n",
            "Exiting\n"
          ]
        }
      ]
    },
    {
      "cell_type": "code",
      "source": [
        "import os\n",
        "import openai\n",
        "import re\n",
        "\n",
        "# Set the OpenAI API key\n",
        "os.environ[\"OPENAI_API_KEY\"] = \"\"\n",
        "openai.api_key = os.getenv(\"OPENAI_API_KEY\")\n",
        "\n",
        "def extract_locations(user_input):\n",
        "    # Regular expression to extract locations from input\n",
        "    pattern = re.compile(r\"FROM\\s+(.+?)\\s+TO\\s+(.+)\", re.IGNORECASE)\n",
        "    match = pattern.search(user_input)\n",
        "    if match:\n",
        "        start_location = match.group(1).strip()\n",
        "        end_location = match.group(2).strip()\n",
        "        return start_location, end_location\n",
        "    else:\n",
        "        return None, None\n",
        "\n",
        "def generate_route_description(start_location, end_location):\n",
        "    # Prompt for the OpenAI API\n",
        "    prompt = f\"Provide a detailed driving route from {start_location} to {end_location}. Include major turns, landmarks, and distances.\"\n",
        "\n",
        "    response = openai.ChatCompletion.create(\n",
        "        model=\"gpt-3.5-turbo\",\n",
        "        messages=[\n",
        "            {\"role\": \"system\", \"content\": \"You are a helpful assistant.\"},\n",
        "            {\"role\": \"user\", \"content\": prompt}\n",
        "        ]\n",
        "    )\n",
        "\n",
        "    return response.choices[0].message.content.strip()\n",
        "\n",
        "# Run the chatbot in a loop\n",
        "print(\"Route Description Chatbot. Type 'exit' to quit.\")\n",
        "while True:\n",
        "    user_input = input(\"Enter your request: \")\n",
        "    if user_input.lower() == 'exit':\n",
        "        print('Exiting')\n",
        "        break\n",
        "\n",
        "    start_location, end_location = extract_locations(user_input)\n",
        "    if not start_location or not end_location:\n",
        "        print(\"Invalid input format. Please use 'HEY TAKE ME FROM [start location] TO [end location]'.\")\n",
        "        continue\n",
        "\n",
        "    route_description = generate_route_description(start_location, end_location)\n",
        "    print(\"Route Description:\", route_description)\n"
      ],
      "metadata": {
        "colab": {
          "base_uri": "https://localhost:8080/"
        },
        "id": "0xFs_djDpaHZ",
        "outputId": "98a24c3d-de1d-43eb-d99d-a06cb94fbbc3"
      },
      "execution_count": 3,
      "outputs": [
        {
          "output_type": "stream",
          "name": "stdout",
          "text": [
            "Route Description Chatbot. Type 'exit' to quit.\n",
            "Enter your request: TAKE ME FROM KANNUR TO KOZHIKODE\n",
            "Route Description: Here is a detailed driving route from Kannur to Kozhikode:\n",
            "\n",
            "1. Start at Kannur Railway Station and head south on Railway Station Road towards Thavakkara.\n",
            "2. Turn right onto National Highway 66 (NH 66) and continue for approximately 58 km.\n",
            "3. Pass through Thalassery and Mahe along the way.\n",
            "4. Stay on NH 66 and continue towards Kozhikode for about 50 km.\n",
            "5. After passing through Vadakara, continue on NH 66 until you reach Kozhikode.\n",
            "6. Once you enter Kozhikode, follow the signs towards your specific destination within the city.\n",
            "\n",
            "Estimated distances:\n",
            "- Kannur to Thalassery: 24 km\n",
            "- Thalassery to Mahe: 7 km\n",
            "- Mahe to Vadakara: 7 km\n",
            "- Vadakara to Kozhikode: 54 km\n",
            "\n",
            "Landmarks along the route may include Thalassery Fort, Mahe Church, and Kappad Beach.\n",
            "\n",
            "Please note that traffic conditions and road closures may affect the route, so it's advisable to use a GPS or navigation app for real-time updates during your journey.\n",
            "Enter your request: TAKE ME FROM KANNUR TO KOZHIKODE by car\n",
            "Route Description: Sure! Here is a detailed driving route from Kannur to Kozhikode by car:\n",
            "\n",
            "1. Start at Kannur and head southwest on the NH 66 (also known as NH 66A) towards Payyambalam Beach.\n",
            "2. Continue on NH 66 and after about 20 km, you will reach Thalassery. Stay on NH 66 bypassing the town.\n",
            "3. After Thalassery, drive for another 30 km and you will reach Vadakara. Continue on NH 66 passing through the town.\n",
            "4. From Vadakara, drive for approximately 48 km on NH 66 and you will reach Kozhikode.\n",
            "5. As you enter Kozhikode, you will pass landmarks such as the Tagore Centenary Hall and Kozhikode Beach.\n",
            "6. Continue on NH 66 until you reach Mananchira Square, from where you can make further turns based on your destination within Kozhikode.\n",
            "\n",
            "Total distance: Approximately 100 km\n",
            "Estimated driving time: Around 2.5 hours (depending on traffic conditions)\n",
            "\n",
            "Please note that the actual driving time may vary based on traffic conditions and road closures. Make sure to check for any road updates or diversions before starting your journey.\n",
            "Enter your request: travel time of a traveller kannur to calicut\n",
            "Invalid input format. Please use 'HEY TAKE ME FROM [start location] TO [end location]'.\n",
            "Enter your request: exIt\n",
            "Exiting\n"
          ]
        }
      ]
    },
    {
      "cell_type": "code",
      "source": [
        "import os\n",
        "import openai\n",
        "import re\n",
        "\n",
        "# Set the OpenAI API key\n",
        "os.environ[\"OPENAI_API_KEY\"] = \"\"\n",
        "openai.api_key = os.getenv(\"OPENAI_API_KEY\")\n",
        "\n",
        "def extract_locations(user_input):\n",
        "    # Regular expression to extract locations from input\n",
        "    pattern = re.compile(r\"FROM\\s+(.+?)\\s+TO\\s+(.+)\", re.IGNORECASE)\n",
        "    match = pattern.search(user_input)\n",
        "    if match:\n",
        "        start_location = match.group(1).strip()\n",
        "        end_location = match.group(2).strip()\n",
        "        return start_location, end_location\n",
        "    else:\n",
        "        return None, None\n",
        "\n",
        "def generate_route_description(start_location, end_location, vehicle, condition, fuel, companion, men):\n",
        "    # Prompt for the OpenAI API\n",
        "    prompt = (f\"Given the following details:\\n\"\n",
        "              f\"Vehicle: {vehicle}\\n\"\n",
        "              f\"Condition: {condition}\\n\"\n",
        "              f\"Fuel: {fuel}\\n\"\n",
        "              f\"Companion: {companion}\\n\"\n",
        "              f\"Men: {men}\\n\\n\"\n",
        "              f\"Provide a detailed driving route from {start_location} to {end_location}. Include major turns, landmarks, and distances.\")\n",
        "\n",
        "    response = openai.ChatCompletion.create(\n",
        "        model=\"gpt-3.5-turbo\",\n",
        "        messages=[\n",
        "            {\"role\": \"system\", \"content\": \"You are a helpful assistant.\"},\n",
        "            {\"role\": \"user\", \"content\": prompt}\n",
        "        ]\n",
        "    )\n",
        "\n",
        "    return response['choices'][0]['message']['content'].strip()\n",
        "\n",
        "# Run the chatbot in a loop\n",
        "print(\"Route Description Chatbot. Type 'exit' to quit.\")\n",
        "while True:\n",
        "    user_input = input(\"Enter your request: \")\n",
        "    if user_input.lower() == 'exit':\n",
        "        print('Exiting')\n",
        "        break\n",
        "\n",
        "    start_location, end_location = extract_locations(user_input)\n",
        "    if not start_location or not end_location:\n",
        "        print(\"Invalid input format. Please use 'HEY TAKE ME FROM [start location] TO [end location]'.\")\n",
        "        continue\n",
        "\n",
        "    vehicle = input(\"Which vehicle are you driving? \")\n",
        "    condition = input(\"How's the condition of the vehicle? Well serviced? \")\n",
        "    fuel = input(\"How filled is your fuel tank? \")\n",
        "    companion = input(\"Who is accompanying you or are you alone? \")\n",
        "    men = input(\"Are there any men with you? \")\n",
        "\n",
        "    route_description = generate_route_description(start_location, end_location, vehicle, condition, fuel, companion, men)\n",
        "    print(\"Route Description:\", route_description)\n",
        "\n",
        "    while True:\n",
        "        satisfied = input(\"Are you satisfied with this route? (yes/no): \").strip().lower()\n",
        "        if satisfied == 'yes':\n",
        "            print(\"Great! Have a safe journey!\")\n",
        "            break\n",
        "        elif satisfied == 'no':\n",
        "            print(\"Sorry, but that's the only route available.\")\n",
        "            break\n",
        "        else:\n",
        "            print(\"Please answer 'yes' or 'no'.\")\n"
      ],
      "metadata": {
        "colab": {
          "base_uri": "https://localhost:8080/"
        },
        "id": "TwGYYRpdsF7C",
        "outputId": "980e5e65-e15e-4ceb-b0dd-a10de7eaf48d"
      },
      "execution_count": null,
      "outputs": [
        {
          "name": "stdout",
          "output_type": "stream",
          "text": [
            "Route Description Chatbot. Type 'exit' to quit.\n",
            "Enter your request: TAKE ME FROM KANNUR TO KOZHIKODE\n",
            "Which vehicle are you driving? BMW\n",
            "How's the condition of the vehicle? Well serviced? YES\n",
            "How filled is your fuel tank? HALF\n",
            "Who is accompanying you or are you alone? MY WIFE\n",
            "Are there any men with you? YES\n",
            "Route Description: Here is a detailed driving route from Kannur to Kozhikode:\n",
            "\n",
            "1. Start your journey in Kannur and head south on NH66 (National Highway 66).\n",
            "2. After approximately 25 kilometers, you will reach Thalassery. Stay on NH66.\n",
            "3. Continue on NH66 for another 45 kilometers until you reach Vadakara.\n",
            "4. From Vadakara, keep driving south on NH66 for around 45 kilometers.\n",
            "5. You will pass through Payyoli and then Koyilandy.\n",
            "6. After Koyilandy, drive for about 25 kilometers until you reach Elathur.\n",
            "7. Stay on NH66 and drive for another 10 kilometers to finally reach Kozhikode.\n",
            "\n",
            "Key landmarks along the way:\n",
            "- Thalassery: Famous for its historic Fort and beautiful beach.\n",
            "- Vadakara: Known for its Mahe River and temples.\n",
            "- Koyilandy: A historic town with scenic beauty and historical significance.\n",
            "- Elathur: A suburb of Kozhikode, known for its coastal charm.\n",
            "\n",
            "Total driving distance: Approximately 160 kilometers\n",
            "Estimated driving time: Around 3-4 hours, depending on traffic conditions.\n",
            "\n",
            "Enjoy your drive from Kannur to Kozhikode with your wife!\n",
            "Are you satisfied with this route? (yes/no): NO SUGGEST ME ANOTHER\n",
            "Please answer 'yes' or 'no'.\n",
            "Are you satisfied with this route? (yes/no): NO\n",
            "Sorry, but that's the only route available.\n",
            "Enter your request: KOCHI TO ERNAKULAM\n",
            "Invalid input format. Please use 'HEY TAKE ME FROM [start location] TO [end location]'.\n",
            "Enter your request: FROM KOCHI TO ENAKULAM\n",
            "Which vehicle are you driving? BMW\n",
            "How's the condition of the vehicle? Well serviced? YES\n",
            "How filled is your fuel tank? FULL\n",
            "Who is accompanying you or are you alone? YES\n",
            "Are there any men with you? YES\n",
            "Route Description: I apologize, but it seems there might be some confusion with the location names you provided. Kochi and Ernakulam are actually part of the same city in the state of Kerala, India. Ernakulam is a district within the city of Kochi. Could you please provide another pair of locations for which you would like me to suggest a driving route?\n",
            "Are you satisfied with this route? (yes/no): NO\n",
            "Sorry, but that's the only route available.\n",
            "Enter your request: FROM KOCHI TO TRIAVNDRUM\n"
          ]
        }
      ]
    },
    {
      "cell_type": "code",
      "source": [
        "!pip install openai==0.28\n"
      ],
      "metadata": {
        "colab": {
          "base_uri": "https://localhost:8080/"
        },
        "id": "YYxnZZ5TnPuU",
        "outputId": "5423e4f3-b4d7-45e8-8a4a-0d44dd404c5e"
      },
      "execution_count": 1,
      "outputs": [
        {
          "output_type": "stream",
          "name": "stdout",
          "text": [
            "Requirement already satisfied: openai==0.28 in /usr/local/lib/python3.10/dist-packages (0.28.0)\n",
            "Requirement already satisfied: requests>=2.20 in /usr/local/lib/python3.10/dist-packages (from openai==0.28) (2.31.0)\n",
            "Requirement already satisfied: tqdm in /usr/local/lib/python3.10/dist-packages (from openai==0.28) (4.66.4)\n",
            "Requirement already satisfied: aiohttp in /usr/local/lib/python3.10/dist-packages (from openai==0.28) (3.9.5)\n",
            "Requirement already satisfied: charset-normalizer<4,>=2 in /usr/local/lib/python3.10/dist-packages (from requests>=2.20->openai==0.28) (3.3.2)\n",
            "Requirement already satisfied: idna<4,>=2.5 in /usr/local/lib/python3.10/dist-packages (from requests>=2.20->openai==0.28) (3.7)\n",
            "Requirement already satisfied: urllib3<3,>=1.21.1 in /usr/local/lib/python3.10/dist-packages (from requests>=2.20->openai==0.28) (2.0.7)\n",
            "Requirement already satisfied: certifi>=2017.4.17 in /usr/local/lib/python3.10/dist-packages (from requests>=2.20->openai==0.28) (2024.6.2)\n",
            "Requirement already satisfied: aiosignal>=1.1.2 in /usr/local/lib/python3.10/dist-packages (from aiohttp->openai==0.28) (1.3.1)\n",
            "Requirement already satisfied: attrs>=17.3.0 in /usr/local/lib/python3.10/dist-packages (from aiohttp->openai==0.28) (23.2.0)\n",
            "Requirement already satisfied: frozenlist>=1.1.1 in /usr/local/lib/python3.10/dist-packages (from aiohttp->openai==0.28) (1.4.1)\n",
            "Requirement already satisfied: multidict<7.0,>=4.5 in /usr/local/lib/python3.10/dist-packages (from aiohttp->openai==0.28) (6.0.5)\n",
            "Requirement already satisfied: yarl<2.0,>=1.0 in /usr/local/lib/python3.10/dist-packages (from aiohttp->openai==0.28) (1.9.4)\n",
            "Requirement already satisfied: async-timeout<5.0,>=4.0 in /usr/local/lib/python3.10/dist-packages (from aiohttp->openai==0.28) (4.0.3)\n"
          ]
        }
      ]
    },
    {
      "cell_type": "code",
      "source": [
        "!pip install -U langchain_community"
      ],
      "metadata": {
        "colab": {
          "base_uri": "https://localhost:8080/"
        },
        "id": "aIKGNKtilTfd",
        "outputId": "7ad21bfd-f8e8-4a3b-b2ba-904a2e18aa3e"
      },
      "execution_count": 5,
      "outputs": [
        {
          "output_type": "stream",
          "name": "stdout",
          "text": [
            "Collecting langchain_community\n",
            "  Downloading langchain_community-0.2.5-py3-none-any.whl (2.2 MB)\n",
            "\u001b[?25l     \u001b[90m━━━━━━━━━━━━━━━━━━━━━━━━━━━━━━━━━━━━━━━━\u001b[0m \u001b[32m0.0/2.2 MB\u001b[0m \u001b[31m?\u001b[0m eta \u001b[36m-:--:--\u001b[0m\r\u001b[2K     \u001b[91m━━━\u001b[0m\u001b[91m╸\u001b[0m\u001b[90m━━━━━━━━━━━━━━━━━━━━━━━━━━━━━━━━━━━━\u001b[0m \u001b[32m0.2/2.2 MB\u001b[0m \u001b[31m5.7 MB/s\u001b[0m eta \u001b[36m0:00:01\u001b[0m\r\u001b[2K     \u001b[91m━━━━━━━━━━━━━━━━━━━━━━━━━━━━━━━━━━━━\u001b[0m\u001b[90m╺\u001b[0m\u001b[90m━━━\u001b[0m \u001b[32m2.0/2.2 MB\u001b[0m \u001b[31m28.7 MB/s\u001b[0m eta \u001b[36m0:00:01\u001b[0m\r\u001b[2K     \u001b[90m━━━━━━━━━━━━━━━━━━━━━━━━━━━━━━━━━━━━━━━━\u001b[0m \u001b[32m2.2/2.2 MB\u001b[0m \u001b[31m21.5 MB/s\u001b[0m eta \u001b[36m0:00:00\u001b[0m\n",
            "\u001b[?25hRequirement already satisfied: PyYAML>=5.3 in /usr/local/lib/python3.10/dist-packages (from langchain_community) (6.0.1)\n",
            "Requirement already satisfied: SQLAlchemy<3,>=1.4 in /usr/local/lib/python3.10/dist-packages (from langchain_community) (2.0.30)\n",
            "Requirement already satisfied: aiohttp<4.0.0,>=3.8.3 in /usr/local/lib/python3.10/dist-packages (from langchain_community) (3.9.5)\n",
            "Collecting dataclasses-json<0.7,>=0.5.7 (from langchain_community)\n",
            "  Downloading dataclasses_json-0.6.7-py3-none-any.whl (28 kB)\n",
            "Requirement already satisfied: langchain<0.3.0,>=0.2.5 in /usr/local/lib/python3.10/dist-packages (from langchain_community) (0.2.5)\n",
            "Requirement already satisfied: langchain-core<0.3.0,>=0.2.7 in /usr/local/lib/python3.10/dist-packages (from langchain_community) (0.2.7)\n",
            "Requirement already satisfied: langsmith<0.2.0,>=0.1.0 in /usr/local/lib/python3.10/dist-packages (from langchain_community) (0.1.77)\n",
            "Requirement already satisfied: numpy<2,>=1 in /usr/local/lib/python3.10/dist-packages (from langchain_community) (1.25.2)\n",
            "Requirement already satisfied: requests<3,>=2 in /usr/local/lib/python3.10/dist-packages (from langchain_community) (2.31.0)\n",
            "Requirement already satisfied: tenacity<9.0.0,>=8.1.0 in /usr/local/lib/python3.10/dist-packages (from langchain_community) (8.3.0)\n",
            "Requirement already satisfied: aiosignal>=1.1.2 in /usr/local/lib/python3.10/dist-packages (from aiohttp<4.0.0,>=3.8.3->langchain_community) (1.3.1)\n",
            "Requirement already satisfied: attrs>=17.3.0 in /usr/local/lib/python3.10/dist-packages (from aiohttp<4.0.0,>=3.8.3->langchain_community) (23.2.0)\n",
            "Requirement already satisfied: frozenlist>=1.1.1 in /usr/local/lib/python3.10/dist-packages (from aiohttp<4.0.0,>=3.8.3->langchain_community) (1.4.1)\n",
            "Requirement already satisfied: multidict<7.0,>=4.5 in /usr/local/lib/python3.10/dist-packages (from aiohttp<4.0.0,>=3.8.3->langchain_community) (6.0.5)\n",
            "Requirement already satisfied: yarl<2.0,>=1.0 in /usr/local/lib/python3.10/dist-packages (from aiohttp<4.0.0,>=3.8.3->langchain_community) (1.9.4)\n",
            "Requirement already satisfied: async-timeout<5.0,>=4.0 in /usr/local/lib/python3.10/dist-packages (from aiohttp<4.0.0,>=3.8.3->langchain_community) (4.0.3)\n",
            "Collecting marshmallow<4.0.0,>=3.18.0 (from dataclasses-json<0.7,>=0.5.7->langchain_community)\n",
            "  Downloading marshmallow-3.21.3-py3-none-any.whl (49 kB)\n",
            "\u001b[2K     \u001b[90m━━━━━━━━━━━━━━━━━━━━━━━━━━━━━━━━━━━━━━━━\u001b[0m \u001b[32m49.2/49.2 kB\u001b[0m \u001b[31m5.5 MB/s\u001b[0m eta \u001b[36m0:00:00\u001b[0m\n",
            "\u001b[?25hCollecting typing-inspect<1,>=0.4.0 (from dataclasses-json<0.7,>=0.5.7->langchain_community)\n",
            "  Downloading typing_inspect-0.9.0-py3-none-any.whl (8.8 kB)\n",
            "Requirement already satisfied: langchain-text-splitters<0.3.0,>=0.2.0 in /usr/local/lib/python3.10/dist-packages (from langchain<0.3.0,>=0.2.5->langchain_community) (0.2.1)\n",
            "Requirement already satisfied: pydantic<3,>=1 in /usr/local/lib/python3.10/dist-packages (from langchain<0.3.0,>=0.2.5->langchain_community) (2.7.3)\n",
            "Requirement already satisfied: jsonpatch<2.0,>=1.33 in /usr/local/lib/python3.10/dist-packages (from langchain-core<0.3.0,>=0.2.7->langchain_community) (1.33)\n",
            "Requirement already satisfied: packaging<25,>=23.2 in /usr/local/lib/python3.10/dist-packages (from langchain-core<0.3.0,>=0.2.7->langchain_community) (24.1)\n",
            "Requirement already satisfied: orjson<4.0.0,>=3.9.14 in /usr/local/lib/python3.10/dist-packages (from langsmith<0.2.0,>=0.1.0->langchain_community) (3.10.5)\n",
            "Requirement already satisfied: charset-normalizer<4,>=2 in /usr/local/lib/python3.10/dist-packages (from requests<3,>=2->langchain_community) (3.3.2)\n",
            "Requirement already satisfied: idna<4,>=2.5 in /usr/local/lib/python3.10/dist-packages (from requests<3,>=2->langchain_community) (3.7)\n",
            "Requirement already satisfied: urllib3<3,>=1.21.1 in /usr/local/lib/python3.10/dist-packages (from requests<3,>=2->langchain_community) (2.0.7)\n",
            "Requirement already satisfied: certifi>=2017.4.17 in /usr/local/lib/python3.10/dist-packages (from requests<3,>=2->langchain_community) (2024.6.2)\n",
            "Requirement already satisfied: typing-extensions>=4.6.0 in /usr/local/lib/python3.10/dist-packages (from SQLAlchemy<3,>=1.4->langchain_community) (4.12.2)\n",
            "Requirement already satisfied: greenlet!=0.4.17 in /usr/local/lib/python3.10/dist-packages (from SQLAlchemy<3,>=1.4->langchain_community) (3.0.3)\n",
            "Requirement already satisfied: jsonpointer>=1.9 in /usr/local/lib/python3.10/dist-packages (from jsonpatch<2.0,>=1.33->langchain-core<0.3.0,>=0.2.7->langchain_community) (3.0.0)\n",
            "Requirement already satisfied: annotated-types>=0.4.0 in /usr/local/lib/python3.10/dist-packages (from pydantic<3,>=1->langchain<0.3.0,>=0.2.5->langchain_community) (0.7.0)\n",
            "Requirement already satisfied: pydantic-core==2.18.4 in /usr/local/lib/python3.10/dist-packages (from pydantic<3,>=1->langchain<0.3.0,>=0.2.5->langchain_community) (2.18.4)\n",
            "Collecting mypy-extensions>=0.3.0 (from typing-inspect<1,>=0.4.0->dataclasses-json<0.7,>=0.5.7->langchain_community)\n",
            "  Downloading mypy_extensions-1.0.0-py3-none-any.whl (4.7 kB)\n",
            "Installing collected packages: mypy-extensions, marshmallow, typing-inspect, dataclasses-json, langchain_community\n",
            "Successfully installed dataclasses-json-0.6.7 langchain_community-0.2.5 marshmallow-3.21.3 mypy-extensions-1.0.0 typing-inspect-0.9.0\n"
          ]
        }
      ]
    }
  ]
}